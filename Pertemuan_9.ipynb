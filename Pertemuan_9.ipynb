{
  "nbformat": 4,
  "nbformat_minor": 0,
  "metadata": {
    "colab": {
      "name": "Pertemuan_9.ipynb",
      "provenance": [],
      "collapsed_sections": [],
      "authorship_tag": "ABX9TyP4XrYnlNdf1Ajsre6/dIUr",
      "include_colab_link": true
    },
    "kernelspec": {
      "name": "python3",
      "display_name": "Python 3"
    }
  },
  "cells": [
    {
      "cell_type": "markdown",
      "metadata": {
        "id": "view-in-github",
        "colab_type": "text"
      },
      "source": [
        "<a href=\"https://colab.research.google.com/github/riassnti/riassnti/blob/master/Pertemuan_9.ipynb\" target=\"_parent\"><img src=\"https://colab.research.google.com/assets/colab-badge.svg\" alt=\"Open In Colab\"/></a>"
      ]
    },
    {
      "cell_type": "markdown",
      "metadata": {
        "id": "xyChjXH-vmc-"
      },
      "source": [
        "## **LINEAR PROGRAMMING**"
      ]
    },
    {
      "cell_type": "markdown",
      "metadata": {
        "id": "ahp2S4X_vxxc"
      },
      "source": [
        "# **Linear Programming**"
      ]
    },
    {
      "cell_type": "markdown",
      "metadata": {
        "id": "rr738P73xcNa"
      },
      "source": [
        "**1. Menggunakan Pulp**"
      ]
    },
    {
      "cell_type": "code",
      "metadata": {
        "id": "HphqrJG5xPxZ"
      },
      "source": [
        "import pulp\n"
      ],
      "execution_count": 35,
      "outputs": []
    },
    {
      "cell_type": "markdown",
      "metadata": {
        "id": "twzxuRbMv8k7"
      },
      "source": [
        "Menginstasiasi kelas menjadi model LpMaximize"
      ]
    },
    {
      "cell_type": "code",
      "metadata": {
        "id": "W_tuq2uOxEVH"
      },
      "source": [
        "#Instantiate our problem class\n",
        "model = pulp.LpProblem(\"ProfitMaximisingProblem\", pulp.LpMaximize)"
      ],
      "execution_count": 36,
      "outputs": []
    },
    {
      "cell_type": "code",
      "metadata": {
        "id": "OK00r7wGHaRR"
      },
      "source": [
        "A= pulp.LpVariable('A', lowBound=0, cat='Integer')\n",
        "B= pulp.LpVariable('B', lowBound=0, cat='Integer')"
      ],
      "execution_count": 37,
      "outputs": []
    },
    {
      "cell_type": "markdown",
      "metadata": {
        "id": "lmcEPIMbytx4"
      },
      "source": [
        "Membuat fungsi dan constrain"
      ]
    },
    {
      "cell_type": "code",
      "metadata": {
        "id": "8MDIGPi4yrrw"
      },
      "source": [
        "#Objective function\n",
        "model += 4200 * A + 2800 * B, \"Profit\"\n",
        "#Constraints\n",
        "model += 3 * A + 2 * B <= 20\n",
        "model += 4 * A + 3 * B <= 30\n",
        "model += 4 * A + 3 * B <= 44"
      ],
      "execution_count": 38,
      "outputs": []
    },
    {
      "cell_type": "markdown",
      "metadata": {
        "id": "aTHruQTzzt3q"
      },
      "source": [
        "Menyelesaikan problem linear programming"
      ]
    },
    {
      "cell_type": "code",
      "metadata": {
        "colab": {
          "base_uri": "https://localhost:8080/",
          "height": 35
        },
        "id": "KM_B04JKz3u9",
        "outputId": "ac9c3caf-7f0b-4b33-cc0a-63df219bb346"
      },
      "source": [
        "#Solve our problem\n",
        "model.solve()\n",
        "pulp.LpStatus[model.status]"
      ],
      "execution_count": 39,
      "outputs": [
        {
          "output_type": "execute_result",
          "data": {
            "application/vnd.google.colaboratory.intrinsic+json": {
              "type": "string"
            },
            "text/plain": [
              "'Optimal'"
            ]
          },
          "metadata": {
            "tags": []
          },
          "execution_count": 39
        }
      ]
    },
    {
      "cell_type": "code",
      "metadata": {
        "colab": {
          "base_uri": "https://localhost:8080/"
        },
        "id": "OLr9LkpC0lk_",
        "outputId": "ece5106a-af96-4925-c376-da3b2a0fec6c"
      },
      "source": [
        "print(A.varValue)"
      ],
      "execution_count": 40,
      "outputs": [
        {
          "output_type": "stream",
          "text": [
            "6.0\n"
          ],
          "name": "stdout"
        }
      ]
    },
    {
      "cell_type": "code",
      "metadata": {
        "colab": {
          "base_uri": "https://localhost:8080/"
        },
        "id": "iWi3gfV60s2u",
        "outputId": "c3bc7dbd-e282-4b64-9553-1829ee165d93"
      },
      "source": [
        "print(B.varValue)"
      ],
      "execution_count": 41,
      "outputs": [
        {
          "output_type": "stream",
          "text": [
            "1.0\n"
          ],
          "name": "stdout"
        }
      ]
    },
    {
      "cell_type": "code",
      "metadata": {
        "colab": {
          "base_uri": "https://localhost:8080/"
        },
        "id": "l3BuCc5E0z4B",
        "outputId": "50f346c3-276f-4a5b-c90e-dd4ba61b0d49"
      },
      "source": [
        "print(pulp.value(model.objective))"
      ],
      "execution_count": 42,
      "outputs": [
        {
          "output_type": "stream",
          "text": [
            "28000.0\n"
          ],
          "name": "stdout"
        }
      ]
    },
    {
      "cell_type": "markdown",
      "metadata": {
        "id": "ZNoi4I__2RgX"
      },
      "source": [
        "**2. Menggunakan scipy**"
      ]
    },
    {
      "cell_type": "markdown",
      "metadata": {
        "id": "xyoEa6u93mOw"
      },
      "source": [
        "Import Scipy dan linprog"
      ]
    },
    {
      "cell_type": "markdown",
      "metadata": {
        "id": "bb8Ba7-X3zAs"
      },
      "source": [
        "max z =5x1 + 7x2 dimana\n",
        "1x1 + 0x2 <= 16,\n",
        "2x1 + 3x2 <= 19,\n",
        "\n",
        "x1, x2 >= 0"
      ]
    },
    {
      "cell_type": "code",
      "metadata": {
        "id": "1jGOSBma3uZa"
      },
      "source": [
        "#Import required libraries \n",
        "import numpy as np\n",
        "from scipy.optimize import linprog"
      ],
      "execution_count": 21,
      "outputs": []
    },
    {
      "cell_type": "markdown",
      "metadata": {
        "id": "C4-Aq-Pq434n"
      },
      "source": [
        "Susun array a berdasarkan koefisien x1 dan x2 pada pertidaksamaan constraints"
      ]
    },
    {
      "cell_type": "code",
      "metadata": {
        "id": "lqUg5gYp5KwD"
      },
      "source": [
        "#Set the inequality constraints matrix\n",
        "#Note : the inequality constraints must be in the from of <=\n",
        "A = np.array([[1,0], [2,3], [1,1], [-1,0], [0,-1]])"
      ],
      "execution_count": 27,
      "outputs": []
    },
    {
      "cell_type": "markdown",
      "metadata": {
        "id": "klhf4xzq567n"
      },
      "source": [
        "Susun array b berdasarkan pertidaksamaan vektor constraints"
      ]
    },
    {
      "cell_type": "code",
      "metadata": {
        "id": "38KUD17O6ECV"
      },
      "source": [
        "#Set the inequality constraints vector\n",
        "b = np.array([16, 19, 8, 0, 0])"
      ],
      "execution_count": 28,
      "outputs": []
    },
    {
      "cell_type": "markdown",
      "metadata": {
        "id": "pKNzLWxA6c1g"
      },
      "source": [
        "Array c merupakan koefisien vektor. Ketika maximizing, ubah tanda koefisien (bila positif menjadi negatif)"
      ]
    },
    {
      "cell_type": "code",
      "metadata": {
        "id": "p7_BEWj46zoo"
      },
      "source": [
        "#Set the coefficients of the linear objective function vector\n",
        "#Note : when maximizing, change the signs of the c vector coefficient\n",
        "c = np.array([-5, -7])"
      ],
      "execution_count": 29,
      "outputs": []
    },
    {
      "cell_type": "markdown",
      "metadata": {
        "id": "NubqIMrP7U3s"
      },
      "source": [
        "Menyelesaikan problem linear programming"
      ]
    },
    {
      "cell_type": "code",
      "metadata": {
        "id": "dIIn1X2RKThR"
      },
      "source": [
        "#Solve linear programming problem\n",
        "res = linprog(c, A_ub=A, b_ub=b)"
      ],
      "execution_count": 30,
      "outputs": []
    },
    {
      "cell_type": "code",
      "metadata": {
        "colab": {
          "base_uri": "https://localhost:8080/"
        },
        "id": "pao9-dmV8EtS",
        "outputId": "74a9dcbc-732b-4cd3-8ec8-acd86ca29ebd"
      },
      "source": [
        "#Print results\n",
        "print('Optimal value:', round(res.fun*-1, ndigits=2),\n",
        "      '\\nx values:', res.x,\n",
        "      '\\nNumber of iterations performed :', res.nit,\n",
        "      '\\nStatus:', res.message)"
      ],
      "execution_count": 31,
      "outputs": [
        {
          "output_type": "stream",
          "text": [
            "Optimal value: 46.0 \n",
            "x values: [5. 3.] \n",
            "Number of iterations performed : 5 \n",
            "Status: Optimization terminated successfully.\n"
          ],
          "name": "stdout"
        }
      ]
    }
  ]
}