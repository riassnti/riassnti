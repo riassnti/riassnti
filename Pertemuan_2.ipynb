{
  "nbformat": 4,
  "nbformat_minor": 0,
  "metadata": {
    "colab": {
      "name": "Pertemuan 2.ipynb",
      "provenance": [],
      "authorship_tag": "ABX9TyMmvBRtV7uDwnNjN0rRZT2H",
      "include_colab_link": true
    },
    "kernelspec": {
      "name": "python3",
      "display_name": "Python 3"
    }
  },
  "cells": [
    {
      "cell_type": "markdown",
      "metadata": {
        "id": "view-in-github",
        "colab_type": "text"
      },
      "source": [
        "<a href=\"https://colab.research.google.com/github/riassnti/riassnti/blob/master/Pertemuan_2.ipynb\" target=\"_parent\"><img src=\"https://colab.research.google.com/assets/colab-badge.svg\" alt=\"Open In Colab\"/></a>"
      ]
    },
    {
      "cell_type": "markdown",
      "metadata": {
        "id": "f9fwscrbF9kp",
        "colab_type": "text"
      },
      "source": [
        "1. Constant Time (O(1)) complexity."
      ]
    },
    {
      "cell_type": "code",
      "metadata": {
        "id": "0vJOfcKaGOPt",
        "colab_type": "code",
        "colab": {
          "base_uri": "https://localhost:8080/",
          "height": 51
        },
        "outputId": "dc39a6b8-e971-4824-e21c-d6540bfb0bd5"
      },
      "source": [
        "import numpy as np\n",
        "\n",
        "print(np.__version__)\n",
        "def getFirst(myList):\n",
        "    return myList[0]\n",
        "\n",
        "getFirst([1,2,3])"
      ],
      "execution_count": 1,
      "outputs": [
        {
          "output_type": "stream",
          "text": [
            "1.18.5\n"
          ],
          "name": "stdout"
        },
        {
          "output_type": "execute_result",
          "data": {
            "text/plain": [
              "1"
            ]
          },
          "metadata": {
            "tags": []
          },
          "execution_count": 1
        }
      ]
    },
    {
      "cell_type": "markdown",
      "metadata": {
        "id": "iNxfZMn0Gb3r",
        "colab_type": "text"
      },
      "source": [
        "2. Linear Time (O(n)) complexity."
      ]
    },
    {
      "cell_type": "code",
      "metadata": {
        "id": "95GMDeIM-Jyg",
        "colab_type": "code",
        "colab": {
          "base_uri": "https://localhost:8080/",
          "height": 51
        },
        "outputId": "5ccecf18-908e-4a39-c07f-2a5da2cf72e5"
      },
      "source": [
        "import numpy as np\n",
        "\n",
        "print(np.__version__)\n",
        "def getSum(myList):\n",
        "    sum = 0\n",
        "    for item in myList:\n",
        "        sum = sum+item\n",
        "    return sum\n",
        "    #perhatikan posisi pada return\n",
        "\n",
        "getSum([1,2,3,4])"
      ],
      "execution_count": 2,
      "outputs": [
        {
          "output_type": "stream",
          "text": [
            "1.18.5\n"
          ],
          "name": "stdout"
        },
        {
          "output_type": "execute_result",
          "data": {
            "text/plain": [
              "10"
            ]
          },
          "metadata": {
            "tags": []
          },
          "execution_count": 2
        }
      ]
    },
    {
      "cell_type": "markdown",
      "metadata": {
        "id": "HhrRhwa3GuhH",
        "colab_type": "text"
      },
      "source": [
        "3. Quadratic Time (O(n^2)) complexity."
      ]
    },
    {
      "cell_type": "code",
      "metadata": {
        "id": "vui8jq7KG8ma",
        "colab_type": "code",
        "colab": {
          "base_uri": "https://localhost:8080/",
          "height": 51
        },
        "outputId": "c2463a93-6d4d-4365-b49b-4f7661778f88"
      },
      "source": [
        "import numpy as np\n",
        "\n",
        "print(np.__version__)\n",
        "def getSum(myList):\n",
        "    sum = 0\n",
        "    for row in myList:\n",
        "        for item in row:\n",
        "            sum +=item\n",
        "    return sum\n",
        "  \n",
        "getSum([[1,2,5], [3,4,7]])"
      ],
      "execution_count": 3,
      "outputs": [
        {
          "output_type": "stream",
          "text": [
            "1.18.5\n"
          ],
          "name": "stdout"
        },
        {
          "output_type": "execute_result",
          "data": {
            "text/plain": [
              "22"
            ]
          },
          "metadata": {
            "tags": []
          },
          "execution_count": 3
        }
      ]
    },
    {
      "cell_type": "markdown",
      "metadata": {
        "id": "17s9ViTbHFZa",
        "colab_type": "text"
      },
      "source": [
        "4. Logaritmic time (O(log(n)) complexity."
      ]
    },
    {
      "cell_type": "code",
      "metadata": {
        "id": "4FSrbaeLHYGT",
        "colab_type": "code",
        "colab": {
          "base_uri": "https://localhost:8080/",
          "height": 51
        },
        "outputId": "2f81c5c9-9e18-4a23-c48a-b9a841e1b7b9"
      },
      "source": [
        "import numpy as np\n",
        "\n",
        "print(np.__version__)\n",
        "def searchBinary(myList,item):\n",
        "    first = 0\n",
        "    last = len(myList)-1\n",
        "    foundFlag = False\n",
        "    while(first<=last and not foundFlag):\n",
        "        mid = (first + last)//2\n",
        "        if myList[mid] == item :\n",
        "            foundFlag = True\n",
        "        else:\n",
        "            if item < myList[mid]:\n",
        "                last = mid - 1\n",
        "            else:\n",
        "                first = mid + 1\n",
        "    return foundFlag\n",
        "    \n",
        "\n",
        "searchBinary([8,9,10,100,1000,2000,3000], 10)"
      ],
      "execution_count": 4,
      "outputs": [
        {
          "output_type": "stream",
          "text": [
            "1.18.5\n"
          ],
          "name": "stdout"
        },
        {
          "output_type": "execute_result",
          "data": {
            "text/plain": [
              "True"
            ]
          },
          "metadata": {
            "tags": []
          },
          "execution_count": 4
        }
      ]
    },
    {
      "cell_type": "code",
      "metadata": {
        "id": "fARf7VbLHa62",
        "colab_type": "code",
        "colab": {
          "base_uri": "https://localhost:8080/",
          "height": 34
        },
        "outputId": "02b5e55c-c3c3-4eda-af19-8663b9c2e7b1"
      },
      "source": [
        "searchBinary([8,9,10,100,1000,2000,3000], 5)"
      ],
      "execution_count": 5,
      "outputs": [
        {
          "output_type": "execute_result",
          "data": {
            "text/plain": [
              "False"
            ]
          },
          "metadata": {
            "tags": []
          },
          "execution_count": 5
        }
      ]
    }
  ]
}