{
  "nbformat": 4,
  "nbformat_minor": 0,
  "metadata": {
    "colab": {
      "name": "Pertemuan_8.ipynb",
      "provenance": [],
      "authorship_tag": "ABX9TyNSPN0FkCTMFjLT6Z5hLBFI",
      "include_colab_link": true
    },
    "kernelspec": {
      "name": "python3",
      "display_name": "Python 3"
    }
  },
  "cells": [
    {
      "cell_type": "markdown",
      "metadata": {
        "id": "view-in-github",
        "colab_type": "text"
      },
      "source": [
        "<a href=\"https://colab.research.google.com/github/riassnti/riassnti/blob/master/Pertemuan_8.ipynb\" target=\"_parent\"><img src=\"https://colab.research.google.com/assets/colab-badge.svg\" alt=\"Open In Colab\"/></a>"
      ]
    },
    {
      "cell_type": "markdown",
      "metadata": {
        "id": "MQKe37eCGL7v"
      },
      "source": [
        "# **ALGORITMA PAGERANK**"
      ]
    },
    {
      "cell_type": "code",
      "metadata": {
        "id": "MzveCt0OMhDm",
        "outputId": "2a11ebf6-30bd-4529-e349-06ea918afc6b",
        "colab": {
          "base_uri": "https://localhost:8080/",
          "height": 318
        }
      },
      "source": [
        "import numpy as np\n",
        "import networkx as nx\n",
        "import matplotlib.pyplot as plt\n",
        "%matplotlib inline\n",
        "\n",
        "myWeb = nx.DiGraph()\n",
        "myPages = range(1,5)\n",
        "\n",
        "connections = [(1,3),(2,1),(2,3),(3,1),(3,2),(3,4),(4,5),(5,1),(5,4)]\n",
        "myWeb.add_nodes_from(myPages)\n",
        "myWeb.add_edges_from(connections)\n",
        "\n",
        "pos=nx.shell_layout(myWeb)\n",
        "nx.draw(myWeb, pos, arrows=True, with_labels=True)\n",
        "plt.show()"
      ],
      "execution_count": 2,
      "outputs": [
        {
          "output_type": "display_data",
          "data": {
            "image/png": "[encoded data removed]",
            "text/plain": [
              "<Figure size 432x288 with 1 Axes>"
            ]
          },
          "metadata": {
            "tags": []
          }
        }
      ]
    },
    {
      "cell_type": "markdown",
      "metadata": {
        "id": "u_BFL7mAGEKp"
      },
      "source": [
        "Menerapkan PageRank"
      ]
    },
    {
      "cell_type": "code",
      "metadata": {
        "id": "1vEw-kzVFZ4x"
      },
      "source": [
        "def createPageRank(aGraph):\n",
        "    nodes_set = len(aGraph)\n",
        "    M = nx.to_numpy_matrix(aGraph)\n",
        "    outwards = np.squeeze(np.asarray(np.sum(M, axis=1)))\n",
        "    prob_outwards = np.array(\n",
        "        [1.0/count\n",
        "         if count>0 else 0.0 for count in outwards])\n",
        "    G = np.asarray(np.multiply(M.T, prob_outwards))\n",
        "    p = np.ones(nodes_set)/float(nodes_set)\n",
        "    if np.min(np.sum(G,axis=0)) < 1.0:\n",
        "        print('WARN: G is substochastic')\n",
        "    return G,p"
      ],
      "execution_count": 5,
      "outputs": []
    },
    {
      "cell_type": "code",
      "metadata": {
        "id": "mR_whzjDFowI",
        "outputId": "ee4dd63c-fd80-4afc-8cd7-fbcc95867bb7",
        "colab": {
          "base_uri": "https://localhost:8080/"
        }
      },
      "source": [
        "G,p = createPageRank(myWeb)\n",
        "print(G)"
      ],
      "execution_count": 6,
      "outputs": [
        {
          "output_type": "stream",
          "text": [
            "[[0.         0.5        0.33333333 0.         0.5       ]\n",
            " [0.         0.         0.33333333 0.         0.        ]\n",
            " [1.         0.5        0.         0.         0.        ]\n",
            " [0.         0.         0.33333333 0.         0.5       ]\n",
            " [0.         0.         0.         1.         0.        ]]\n"
          ],
          "name": "stdout"
        }
      ]
    }
  ]
}