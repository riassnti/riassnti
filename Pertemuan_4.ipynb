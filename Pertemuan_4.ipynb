{
  "nbformat": 4,
  "nbformat_minor": 0,
  "metadata": {
    "colab": {
      "name": "Pertemuan 4.ipynb",
      "provenance": [],
      "authorship_tag": "ABX9TyMT4gFvNAwi0NwVT6lPKdEy",
      "include_colab_link": true
    },
    "kernelspec": {
      "name": "python3",
      "display_name": "Python 3"
    }
  },
  "cells": [
    {
      "cell_type": "markdown",
      "metadata": {
        "id": "view-in-github",
        "colab_type": "text"
      },
      "source": [
        "<a href=\"https://colab.research.google.com/github/riassnti/riassnti/blob/master/Pertemuan_4.ipynb\" target=\"_parent\"><img src=\"https://colab.research.google.com/assets/colab-badge.svg\" alt=\"Open In Colab\"/></a>"
      ]
    },
    {
      "cell_type": "markdown",
      "metadata": {
        "id": "TfDi4Jpi7f9N"
      },
      "source": [
        "### **SORTING & SEARCHING**"
      ]
    },
    {
      "cell_type": "markdown",
      "metadata": {
        "id": "O8LVwIHc70uu"
      },
      "source": [
        "**A. Sorting Algorithms**"
      ]
    },
    {
      "cell_type": "code",
      "metadata": {
        "id": "CWdOtt7S8B0k",
        "outputId": "32784c04-4c5e-4987-cb01-d716d0de3339",
        "colab": {
          "base_uri": "https://localhost:8080/"
        }
      },
      "source": [
        "#swap function\n",
        "var1 = 1\n",
        "var2 = 2\n",
        "var1,var2 = var2,var1\n",
        "\n",
        "print(var1,var2)"
      ],
      "execution_count": 64,
      "outputs": [
        {
          "output_type": "stream",
          "text": [
            "2 1\n"
          ],
          "name": "stdout"
        }
      ]
    },
    {
      "cell_type": "markdown",
      "metadata": {
        "id": "PMNhvPWW8lLu"
      },
      "source": [
        "1. Bubble Sort"
      ]
    },
    {
      "cell_type": "code",
      "metadata": {
        "id": "lLg4Vi7T8uGz"
      },
      "source": [
        "list = [15,5,10,11,29,24,30]\n",
        "\n",
        "#modifikasi sesuai angka favorit"
      ],
      "execution_count": 65,
      "outputs": []
    },
    {
      "cell_type": "code",
      "metadata": {
        "id": "-m61Z36U9UDh",
        "outputId": "9a451708-573d-4f98-805a-7cfc560efa74",
        "colab": {
          "base_uri": "https://localhost:8080/"
        }
      },
      "source": [
        "#proses penukaran bubble sort\n",
        "\n",
        "lastElementIndex = len(list)-1\n",
        "print(0,list)\n",
        "for idx in range(lastElementIndex):\n",
        "                if list[idx]>list[idx+1]:\n",
        "                    list[idx],list[idx+1] = list[idx+1],list[idx]\n",
        "                print(idx+1,list)"
      ],
      "execution_count": 67,
      "outputs": [
        {
          "output_type": "stream",
          "text": [
            "0 [5, 10, 11, 15, 24, 29, 30]\n",
            "1 [5, 10, 11, 15, 24, 29, 30]\n",
            "2 [5, 10, 11, 15, 24, 29, 30]\n",
            "3 [5, 10, 11, 15, 24, 29, 30]\n",
            "4 [5, 10, 11, 15, 24, 29, 30]\n",
            "5 [5, 10, 11, 15, 24, 29, 30]\n",
            "6 [5, 10, 11, 15, 24, 29, 30]\n"
          ],
          "name": "stdout"
        }
      ]
    },
    {
      "cell_type": "code",
      "metadata": {
        "id": "sKT3Y6_q_fsf",
        "outputId": "310702e4-a07c-441b-a203-8bf1c361a041",
        "colab": {
          "base_uri": "https://localhost:8080/"
        }
      },
      "source": [
        "list"
      ],
      "execution_count": 68,
      "outputs": [
        {
          "output_type": "execute_result",
          "data": {
            "text/plain": [
              "[5, 10, 11, 15, 24, 29, 30]"
            ]
          },
          "metadata": {
            "tags": []
          },
          "execution_count": 68
        }
      ]
    },
    {
      "cell_type": "code",
      "metadata": {
        "id": "dbigvZlGAAzt"
      },
      "source": [
        "def BubbleSort(list):\n",
        "#Exchange the element to arrange in order\n",
        "    lastElementIndex = len(list)-1\n",
        "    for passNo in range(lastElementIndex,0,-1):\n",
        "        for idx in range(passNo):\n",
        "            if list[idx]>list[idx+1]: \n",
        "                list[idx],list[idx+1] = list[idx+1],list[idx]\n",
        "    return list"
      ],
      "execution_count": 69,
      "outputs": []
    },
    {
      "cell_type": "code",
      "metadata": {
        "id": "aiHQaLeFCGMD"
      },
      "source": [
        "#masukkan angka dengan urutan lainnya\n",
        "\n",
        "list = [5,30,24,11,10,29,15]"
      ],
      "execution_count": 72,
      "outputs": []
    },
    {
      "cell_type": "code",
      "metadata": {
        "id": "OfO5WqWdCimr",
        "outputId": "2532bae0-3f13-4f68-ef5d-ee7bbc7cce98",
        "colab": {
          "base_uri": "https://localhost:8080/"
        }
      },
      "source": [
        "BubbleSort(list)"
      ],
      "execution_count": 73,
      "outputs": [
        {
          "output_type": "execute_result",
          "data": {
            "text/plain": [
              "[5, 10, 11, 15, 24, 29, 30]"
            ]
          },
          "metadata": {
            "tags": []
          },
          "execution_count": 73
        }
      ]
    },
    {
      "cell_type": "code",
      "metadata": {
        "id": "gAz3QbafDsDR",
        "outputId": "e3b355ad-0a4b-4535-c50f-6cfe50664399",
        "colab": {
          "base_uri": "https://localhost:8080/"
        }
      },
      "source": [
        "list"
      ],
      "execution_count": 74,
      "outputs": [
        {
          "output_type": "execute_result",
          "data": {
            "text/plain": [
              "[5, 10, 11, 15, 24, 29, 30]"
            ]
          },
          "metadata": {
            "tags": []
          },
          "execution_count": 74
        }
      ]
    },
    {
      "cell_type": "markdown",
      "metadata": {
        "id": "_EJchBxCDyy5"
      },
      "source": [
        "2. Insertion Sort"
      ]
    },
    {
      "cell_type": "code",
      "metadata": {
        "id": "wvCmLU65D2wB"
      },
      "source": [
        "def InsertionSort(list):\n",
        "    for i in range(1, len(list)):\n",
        "        j = i-1\n",
        "        next = list[i]\n",
        "#Compare the current element with next one\n",
        "\n",
        "        while (list[j] > next) and (j >= 0):\n",
        "            list[j+1] = list[j]\n",
        "            j = j-1\n",
        "        list[j+1] = next\n",
        "    return list"
      ],
      "execution_count": 75,
      "outputs": []
    },
    {
      "cell_type": "code",
      "metadata": {
        "id": "dQMPHjk7FU1h"
      },
      "source": [
        "#masukkan angka dengan urutan lainnya\n",
        "\n",
        "list = [1,20,18,28,9,12,4]"
      ],
      "execution_count": 76,
      "outputs": []
    },
    {
      "cell_type": "code",
      "metadata": {
        "id": "31ASpowBFuL1",
        "outputId": "4687dcb8-4224-4bed-9701-6c61216a6404",
        "colab": {
          "base_uri": "https://localhost:8080/"
        }
      },
      "source": [
        "list"
      ],
      "execution_count": 77,
      "outputs": [
        {
          "output_type": "execute_result",
          "data": {
            "text/plain": [
              "[1, 20, 18, 28, 9, 12, 4]"
            ]
          },
          "metadata": {
            "tags": []
          },
          "execution_count": 77
        }
      ]
    },
    {
      "cell_type": "code",
      "metadata": {
        "id": "FqN7vLsGF1dA",
        "outputId": "277da4bd-ed2c-4854-96de-9abd865e94d2",
        "colab": {
          "base_uri": "https://localhost:8080/"
        }
      },
      "source": [
        "InsertionSort(list)"
      ],
      "execution_count": 78,
      "outputs": [
        {
          "output_type": "execute_result",
          "data": {
            "text/plain": [
              "[1, 4, 9, 12, 18, 20, 28]"
            ]
          },
          "metadata": {
            "tags": []
          },
          "execution_count": 78
        }
      ]
    },
    {
      "cell_type": "code",
      "metadata": {
        "id": "AdZ9mliWGBkL",
        "outputId": "31cb6c02-c2cc-4666-ca3e-2e349aa0a13d",
        "colab": {
          "base_uri": "https://localhost:8080/"
        }
      },
      "source": [
        "list"
      ],
      "execution_count": 79,
      "outputs": [
        {
          "output_type": "execute_result",
          "data": {
            "text/plain": [
              "[1, 4, 9, 12, 18, 20, 28]"
            ]
          },
          "metadata": {
            "tags": []
          },
          "execution_count": 79
        }
      ]
    },
    {
      "cell_type": "markdown",
      "metadata": {
        "id": "mUhrsbAtGGKC"
      },
      "source": [
        "3. Selection Sort"
      ]
    },
    {
      "cell_type": "code",
      "metadata": {
        "id": "ROerlp5CGLjj"
      },
      "source": [
        "def SelectionSort(list):\n",
        "    for fill_slot in range(len(list) - 1, 0, -1):\n",
        "        max_index = 0\n",
        "        for location in range(1, fill_slot + 1):\n",
        "            if list[location] > list[max_index]:\n",
        "                max_index = location\n",
        "        list[fill_slot],list[max_index] = list[max_index],list[fill_slot]\n",
        "    return list"
      ],
      "execution_count": 80,
      "outputs": []
    },
    {
      "cell_type": "code",
      "metadata": {
        "id": "JWlvl7a0Hz6F",
        "outputId": "da734c65-6489-4219-a05b-fb2c6cc91be8",
        "colab": {
          "base_uri": "https://localhost:8080/"
        }
      },
      "source": [
        "list = [32,13,7,20,56,3]\n",
        "SelectionSort(list)"
      ],
      "execution_count": 81,
      "outputs": [
        {
          "output_type": "execute_result",
          "data": {
            "text/plain": [
              "[3, 7, 13, 20, 32, 56]"
            ]
          },
          "metadata": {
            "tags": []
          },
          "execution_count": 81
        }
      ]
    },
    {
      "cell_type": "code",
      "metadata": {
        "id": "pDhunDZjIMa2",
        "outputId": "02339756-7e02-4207-9e12-1b1fa8091e69",
        "colab": {
          "base_uri": "https://localhost:8080/"
        }
      },
      "source": [
        "list"
      ],
      "execution_count": 82,
      "outputs": [
        {
          "output_type": "execute_result",
          "data": {
            "text/plain": [
              "[3, 7, 13, 20, 32, 56]"
            ]
          },
          "metadata": {
            "tags": []
          },
          "execution_count": 82
        }
      ]
    },
    {
      "cell_type": "markdown",
      "metadata": {
        "id": "ax8z1WyiISPM"
      },
      "source": [
        "**B. Searching Algorithms**"
      ]
    },
    {
      "cell_type": "markdown",
      "metadata": {
        "id": "gnvD2ZzAIgY5"
      },
      "source": [
        "1. Linear Search"
      ]
    },
    {
      "cell_type": "code",
      "metadata": {
        "id": "4lenXhU4Ijsr"
      },
      "source": [
        "def LinearSearch(list, item):\n",
        "    index = 0\n",
        "    found = False\n",
        "\n",
        "#Match the value with each data element\n",
        "    while index < len(list) and found is False:\n",
        "        if list[index] == item:\n",
        "            found = True\n",
        "        else:\n",
        "            index = index + 1\n",
        "    return found "
      ],
      "execution_count": 46,
      "outputs": []
    },
    {
      "cell_type": "code",
      "metadata": {
        "id": "gXKhWluJJpdd",
        "outputId": "aa42beca-51e5-4cae-847e-4fef34a22e0f",
        "colab": {
          "base_uri": "https://localhost:8080/"
        }
      },
      "source": [
        "list = [8,2,18,30,1,50,35]\n",
        "print(LinearSearch(list, 55))\n",
        "print(LinearSearch(list, 30))\n"
      ],
      "execution_count": 83,
      "outputs": [
        {
          "output_type": "stream",
          "text": [
            "False\n",
            "True\n"
          ],
          "name": "stdout"
        }
      ]
    },
    {
      "cell_type": "markdown",
      "metadata": {
        "id": "BbpisztuKKWP"
      },
      "source": [
        "2. Binary Search"
      ]
    },
    {
      "cell_type": "code",
      "metadata": {
        "id": "MrE1psxmKQXX"
      },
      "source": [
        "def BinarySearch(list, item):\n",
        "    first = 0\n",
        "    last = len(list)-1\n",
        "    found = False\n",
        "\n",
        "    while first<=last and not found:\n",
        "        midpoint = (first + last)//2\n",
        "        if list[midpoint] == item:\n",
        "            found = True\n",
        "        else:\n",
        "            if item < list[midpoint]:\n",
        "                last = midpoint-1\n",
        "            else:\n",
        "                first = midpoint+1\n",
        "    return found\n"
      ],
      "execution_count": 85,
      "outputs": []
    },
    {
      "cell_type": "code",
      "metadata": {
        "id": "JBTfWE-8LfdR",
        "outputId": "30e27540-88ff-47de-ec58-9b54bb7ccb40",
        "colab": {
          "base_uri": "https://localhost:8080/"
        }
      },
      "source": [
        "list = [8,2,18,30,1,50,35]\n",
        "sorted_list = BubbleSort(list)\n",
        "print(LinearSearch(list, 55))\n",
        "print(LinearSearch(list, 30))"
      ],
      "execution_count": 86,
      "outputs": [
        {
          "output_type": "stream",
          "text": [
            "False\n",
            "True\n"
          ],
          "name": "stdout"
        }
      ]
    },
    {
      "cell_type": "markdown",
      "metadata": {
        "id": "Oo1SP6q3P3mm"
      },
      "source": [
        "3. Interpolation Search"
      ]
    },
    {
      "cell_type": "code",
      "metadata": {
        "id": "Iiw-pyaAP8HP"
      },
      "source": [
        "def IntPolSearch(list,x):\n",
        "    idx = 0\n",
        "    idxn = (len(list) - 1)\n",
        "    found = False\n",
        "    while idx0 <= idxn and x >= list[idx0] and x <= list[idxn]:\n",
        "\n",
        "#Find the mid point\n",
        "      mid = idx0 + int(((float (idxn - idx0)/(list[idxn] - list[idx0])) * (x - list[idx0])))\n",
        "\n",
        "#Compare the value at mid point with search value\n",
        "      if list[mid] == x:\n",
        "          found = True\n",
        "          return found\n",
        "\n",
        "      if list[mid] < x:\n",
        "          idx0 = mid + 1\n",
        "    return found   "
      ],
      "execution_count": 60,
      "outputs": []
    },
    {
      "cell_type": "code",
      "metadata": {
        "id": "pNA1QdxKQheP",
        "outputId": "1421bd07-a855-4b2f-8a0c-7cc6b1419ab9",
        "colab": {
          "base_uri": "https://localhost:8080/"
        }
      },
      "source": [
        "list = [8,2,18,30,1,50,35]\n",
        "sorted_list = BubbleSort(list)\n",
        "print(LinearSearch(list, 55))\n",
        "print(LinearSearch(list, 30))"
      ],
      "execution_count": 87,
      "outputs": [
        {
          "output_type": "stream",
          "text": [
            "False\n",
            "True\n"
          ],
          "name": "stdout"
        }
      ]
    }
  ]
}