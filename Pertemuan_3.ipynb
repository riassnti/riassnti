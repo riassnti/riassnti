{
  "nbformat": 4,
  "nbformat_minor": 0,
  "metadata": {
    "colab": {
      "name": "Pertemuan 3.ipynb",
      "provenance": [],
      "authorship_tag": "ABX9TyOvcXxxRGMwWQjLoYzO1vKr",
      "include_colab_link": true
    },
    "kernelspec": {
      "name": "python3",
      "display_name": "Python 3"
    }
  },
  "cells": [
    {
      "cell_type": "markdown",
      "metadata": {
        "id": "view-in-github",
        "colab_type": "text"
      },
      "source": [
        "<a href=\"https://colab.research.google.com/github/riassnti/riassnti/blob/master/Pertemuan_3.ipynb\" target=\"_parent\"><img src=\"https://colab.research.google.com/assets/colab-badge.svg\" alt=\"Open In Colab\"/></a>"
      ]
    },
    {
      "cell_type": "markdown",
      "metadata": {
        "id": "HOPuScXxloSo"
      },
      "source": [
        "## **STRUKTUR DATA PYTHON**"
      ]
    },
    {
      "cell_type": "markdown",
      "metadata": {
        "id": "t7UAebjV4QDZ"
      },
      "source": [
        "A. STRUKTUR DATA"
      ]
    },
    {
      "cell_type": "markdown",
      "metadata": {
        "id": "1fkhGQzOlz28"
      },
      "source": [
        "1. Lists"
      ]
    },
    {
      "cell_type": "code",
      "metadata": {
        "id": "o7wp3BWsmKP2",
        "outputId": "863b50df-70f2-47ac-ff1e-5fb54bfd75bf",
        "colab": {
          "base_uri": "https://localhost:8080/",
          "height": 34
        }
      },
      "source": [
        "aLists = [\"John\", 33, \"Toronto\", True]\n",
        "aLists"
      ],
      "execution_count": 10,
      "outputs": [
        {
          "output_type": "execute_result",
          "data": {
            "text/plain": [
              "['John', 33, 'Toronto', True]"
            ]
          },
          "metadata": {
            "tags": []
          },
          "execution_count": 10
        }
      ]
    },
    {
      "cell_type": "code",
      "metadata": {
        "id": "tbV_uTKypqdj",
        "outputId": "c6ac8c87-80f5-42bc-8108-6987739e9ec0",
        "colab": {
          "base_uri": "https://localhost:8080/",
          "height": 34
        }
      },
      "source": [
        "type(aLists)"
      ],
      "execution_count": 11,
      "outputs": [
        {
          "output_type": "execute_result",
          "data": {
            "text/plain": [
              "list"
            ]
          },
          "metadata": {
            "tags": []
          },
          "execution_count": 11
        }
      ]
    },
    {
      "cell_type": "code",
      "metadata": {
        "id": "t91j36RwpvKB"
      },
      "source": [
        "bin_colors=['Red', 'Green', 'Blue', 'Yellow']"
      ],
      "execution_count": 14,
      "outputs": []
    },
    {
      "cell_type": "markdown",
      "metadata": {
        "id": "z56PqSvXqUoP"
      },
      "source": [
        "2. Tuples"
      ]
    },
    {
      "cell_type": "code",
      "metadata": {
        "id": "tHwWIf-bqe0k",
        "outputId": "c0645c98-1448-43e9-85b9-820c930aa0a7",
        "colab": {
          "base_uri": "https://localhost:8080/",
          "height": 34
        }
      },
      "source": [
        "bin_colors=['Red', 'Green', 'Blue', 'Yellow']\n",
        "print(f\"The second element of the tuple is {bin_colors[1]}\")"
      ],
      "execution_count": 15,
      "outputs": [
        {
          "output_type": "stream",
          "text": [
            "The second element of the tuple is Green\n"
          ],
          "name": "stdout"
        }
      ]
    },
    {
      "cell_type": "code",
      "metadata": {
        "id": "0g8ufD3krWIN",
        "outputId": "46ae207c-b5a1-4e99-b9af-1c38507bb590",
        "colab": {
          "base_uri": "https://localhost:8080/",
          "height": 34
        }
      },
      "source": [
        "print(f\"The elements after thrid element onwards are {bin_colors[2:]}\")"
      ],
      "execution_count": 17,
      "outputs": [
        {
          "output_type": "stream",
          "text": [
            "The elements after thrid element onwards are ['Blue', 'Yellow']\n"
          ],
          "name": "stdout"
        }
      ]
    },
    {
      "cell_type": "code",
      "metadata": {
        "id": "Y44kzU4GshHT",
        "outputId": "2752b913-4f6d-4669-8c19-d5434af865b4",
        "colab": {
          "base_uri": "https://localhost:8080/",
          "height": 34
        }
      },
      "source": [
        "nested_tuple = (1,2,(100,200,300),6)\n",
        "print(f\"The maximum value of the inner tuple {max(nested_tuple[2])}\")"
      ],
      "execution_count": 21,
      "outputs": [
        {
          "output_type": "stream",
          "text": [
            "The maximum value of the inner tuple 300\n"
          ],
          "name": "stdout"
        }
      ]
    },
    {
      "cell_type": "markdown",
      "metadata": {
        "id": "mNStTCE-tqrK"
      },
      "source": [
        "3. Dictionary"
      ]
    },
    {
      "cell_type": "code",
      "metadata": {
        "id": "nKR0ZOgrtvzT"
      },
      "source": [
        "bin_colors = {\n",
        "  \"manual_color\" : \"Yellow\",\n",
        "  \"approved_color\" : \"Green\",\n",
        "  \"refused_color\" : \"Red\"\n",
        "}"
      ],
      "execution_count": 25,
      "outputs": []
    },
    {
      "cell_type": "code",
      "metadata": {
        "id": "t0LhmlGkuxDB",
        "outputId": "80e5db20-6165-45b3-f521-45446f3f6626",
        "colab": {
          "base_uri": "https://localhost:8080/",
          "height": 34
        }
      },
      "source": [
        "print(bin_colors)"
      ],
      "execution_count": 26,
      "outputs": [
        {
          "output_type": "stream",
          "text": [
            "{'manual_color': 'Yellow', 'approved_color': 'Green', 'refused_color': 'Red'}\n"
          ],
          "name": "stdout"
        }
      ]
    },
    {
      "cell_type": "code",
      "metadata": {
        "id": "qiwoCeBqvOHO",
        "outputId": "0a4485c8-26fb-4813-d124-5cc60dff084a",
        "colab": {
          "base_uri": "https://localhost:8080/",
          "height": 35
        }
      },
      "source": [
        "bin_colors.get('approved_color')"
      ],
      "execution_count": 27,
      "outputs": [
        {
          "output_type": "execute_result",
          "data": {
            "application/vnd.google.colaboratory.intrinsic+json": {
              "type": "string"
            },
            "text/plain": [
              "'Green'"
            ]
          },
          "metadata": {
            "tags": []
          },
          "execution_count": 27
        }
      ]
    },
    {
      "cell_type": "code",
      "metadata": {
        "id": "ntuPoHWhvjsm",
        "outputId": "0f78ee61-ee80-4ead-fff7-49bb7d2433e3",
        "colab": {
          "base_uri": "https://localhost:8080/",
          "height": 35
        }
      },
      "source": [
        "bin_colors['approved_color']"
      ],
      "execution_count": 31,
      "outputs": [
        {
          "output_type": "execute_result",
          "data": {
            "application/vnd.google.colaboratory.intrinsic+json": {
              "type": "string"
            },
            "text/plain": [
              "'Green'"
            ]
          },
          "metadata": {
            "tags": []
          },
          "execution_count": 31
        }
      ]
    },
    {
      "cell_type": "code",
      "metadata": {
        "id": "u9fsbLuLv54s"
      },
      "source": [
        "bin_colors['approved_color']= \"Purple\""
      ],
      "execution_count": 46,
      "outputs": []
    },
    {
      "cell_type": "code",
      "metadata": {
        "id": "VQCGY-Lwv-tq",
        "outputId": "b994ae91-1e59-4946-9526-0dd7e1d48836",
        "colab": {
          "base_uri": "https://localhost:8080/",
          "height": 34
        }
      },
      "source": [
        "print(bin_colors)"
      ],
      "execution_count": 47,
      "outputs": [
        {
          "output_type": "stream",
          "text": [
            "{'manual_color': 'Yellow', 'approved_color': 'Purple', 'refused_color': 'Red'}\n"
          ],
          "name": "stdout"
        }
      ]
    },
    {
      "cell_type": "markdown",
      "metadata": {
        "id": "7HEiZxkHwIF1"
      },
      "source": [
        "4. Sets"
      ]
    },
    {
      "cell_type": "code",
      "metadata": {
        "id": "mHZUT1ehwKdr",
        "outputId": "c4e4d5ff-24d6-470a-95e0-3cf2b1243c0f",
        "colab": {
          "base_uri": "https://localhost:8080/",
          "height": 34
        }
      },
      "source": [
        "green = {'grass', 'leaves'}\n",
        "print(green)"
      ],
      "execution_count": 48,
      "outputs": [
        {
          "output_type": "stream",
          "text": [
            "{'leaves', 'grass'}\n"
          ],
          "name": "stdout"
        }
      ]
    },
    {
      "cell_type": "code",
      "metadata": {
        "id": "9e0XH0GYw-6A"
      },
      "source": [
        "yellow = {'dandelions', 'fire hydrant', 'leaves'}\n",
        "red = {'fire hydrant', 'blood', 'rose', 'leaves'}"
      ],
      "execution_count": 50,
      "outputs": []
    },
    {
      "cell_type": "code",
      "metadata": {
        "id": "FVca7-QWxwL3",
        "outputId": "b3dc81c8-96cd-4a63-c691-7f805419a07a",
        "colab": {
          "base_uri": "https://localhost:8080/",
          "height": 34
        }
      },
      "source": [
        "print(f\"The union of yellow and red sets is {yellow|red}\")"
      ],
      "execution_count": 51,
      "outputs": [
        {
          "output_type": "stream",
          "text": [
            "The union of yellow and red sets is {'rose', 'blood', 'dandelions', 'fire hydrant', 'leaves'}\n"
          ],
          "name": "stdout"
        }
      ]
    },
    {
      "cell_type": "code",
      "metadata": {
        "id": "X3aL3LkOyUE3",
        "outputId": "901a00e8-2286-4abd-c67d-c3e2d95e9365",
        "colab": {
          "base_uri": "https://localhost:8080/",
          "height": 34
        }
      },
      "source": [
        "print(f\"The intersaction of yellow and red is {yellow&red}\")"
      ],
      "execution_count": 52,
      "outputs": [
        {
          "output_type": "stream",
          "text": [
            "The intersaction of yellow and red is {'fire hydrant', 'leaves'}\n"
          ],
          "name": "stdout"
        }
      ]
    },
    {
      "cell_type": "markdown",
      "metadata": {
        "id": "jAtTmb7nzO1r"
      },
      "source": [
        "5. DataFrames"
      ]
    },
    {
      "cell_type": "markdown",
      "metadata": {
        "id": "hs4hA7f01VbS"
      },
      "source": [
        "5.1. DataFrame"
      ]
    },
    {
      "cell_type": "code",
      "metadata": {
        "id": "Zb_9ADvnzVNk",
        "outputId": "3a35a040-55e5-4e82-c382-1d2eb00e5ab4",
        "colab": {
          "base_uri": "https://localhost:8080/",
          "height": 85
        }
      },
      "source": [
        "import pandas as pd\n",
        "df = pd.DataFrame([\n",
        "    ['1', 'Thasya', 30, True],\n",
        "    ['2', 'Nurul', 20, False],\n",
        "    ['3', 'Yostantina', 19, True]])\n",
        "df.columns = ['no', 'nama', 'umur', 'keterangan']\n",
        "print(df)"
      ],
      "execution_count": 94,
      "outputs": [
        {
          "output_type": "stream",
          "text": [
            "  no        nama  umur  keterangan\n",
            "0  1      Thasya    30        True\n",
            "1  2       Nurul    20       False\n",
            "2  3  Yostantina    19        True\n"
          ],
          "name": "stdout"
        }
      ]
    },
    {
      "cell_type": "markdown",
      "metadata": {
        "id": "6YAGhVbJ1gQs"
      },
      "source": [
        "5.1.1. Column Selection"
      ]
    },
    {
      "cell_type": "code",
      "metadata": {
        "id": "ZmvSwCZr1oQI",
        "outputId": "d7acd705-cb33-46de-d944-c57d00f31bee",
        "colab": {
          "base_uri": "https://localhost:8080/",
          "height": 142
        }
      },
      "source": [
        "df[['nama', 'umur']]"
      ],
      "execution_count": 95,
      "outputs": [
        {
          "output_type": "execute_result",
          "data": {
            "text/html": [
              "<div>\n",
              "<style scoped>\n",
              "    .dataframe tbody tr th:only-of-type {\n",
              "        vertical-align: middle;\n",
              "    }\n",
              "\n",
              "    .dataframe tbody tr th {\n",
              "        vertical-align: top;\n",
              "    }\n",
              "\n",
              "    .dataframe thead th {\n",
              "        text-align: right;\n",
              "    }\n",
              "</style>\n",
              "<table border=\"1\" class=\"dataframe\">\n",
              "  <thead>\n",
              "    <tr style=\"text-align: right;\">\n",
              "      <th></th>\n",
              "      <th>nama</th>\n",
              "      <th>umur</th>\n",
              "    </tr>\n",
              "  </thead>\n",
              "  <tbody>\n",
              "    <tr>\n",
              "      <th>0</th>\n",
              "      <td>Thasya</td>\n",
              "      <td>30</td>\n",
              "    </tr>\n",
              "    <tr>\n",
              "      <th>1</th>\n",
              "      <td>Nurul</td>\n",
              "      <td>20</td>\n",
              "    </tr>\n",
              "    <tr>\n",
              "      <th>2</th>\n",
              "      <td>Yostantina</td>\n",
              "      <td>19</td>\n",
              "    </tr>\n",
              "  </tbody>\n",
              "</table>\n",
              "</div>"
            ],
            "text/plain": [
              "         nama  umur\n",
              "0      Thasya    30\n",
              "1       Nurul    20\n",
              "2  Yostantina    19"
            ]
          },
          "metadata": {
            "tags": []
          },
          "execution_count": 95
        }
      ]
    },
    {
      "cell_type": "code",
      "metadata": {
        "id": "40mFWA082EwP",
        "outputId": "252be6ec-711d-4249-b723-feb20e26f81d",
        "colab": {
          "base_uri": "https://localhost:8080/",
          "height": 85
        }
      },
      "source": [
        "df.iloc[:,3]"
      ],
      "execution_count": 96,
      "outputs": [
        {
          "output_type": "execute_result",
          "data": {
            "text/plain": [
              "0     True\n",
              "1    False\n",
              "2     True\n",
              "Name: keterangan, dtype: bool"
            ]
          },
          "metadata": {
            "tags": []
          },
          "execution_count": 96
        }
      ]
    },
    {
      "cell_type": "markdown",
      "metadata": {
        "id": "SxCv1Rr72NZf"
      },
      "source": [
        "5.1.2. Row Selection"
      ]
    },
    {
      "cell_type": "code",
      "metadata": {
        "id": "YV_TUjqr2T0O",
        "outputId": "94d0cea8-c614-42fa-d8a4-c061db0aaaae",
        "colab": {
          "base_uri": "https://localhost:8080/",
          "height": 111
        }
      },
      "source": [
        "df.iloc[1:3,:]"
      ],
      "execution_count": 97,
      "outputs": [
        {
          "output_type": "execute_result",
          "data": {
            "text/html": [
              "<div>\n",
              "<style scoped>\n",
              "    .dataframe tbody tr th:only-of-type {\n",
              "        vertical-align: middle;\n",
              "    }\n",
              "\n",
              "    .dataframe tbody tr th {\n",
              "        vertical-align: top;\n",
              "    }\n",
              "\n",
              "    .dataframe thead th {\n",
              "        text-align: right;\n",
              "    }\n",
              "</style>\n",
              "<table border=\"1\" class=\"dataframe\">\n",
              "  <thead>\n",
              "    <tr style=\"text-align: right;\">\n",
              "      <th></th>\n",
              "      <th>no</th>\n",
              "      <th>nama</th>\n",
              "      <th>umur</th>\n",
              "      <th>keterangan</th>\n",
              "    </tr>\n",
              "  </thead>\n",
              "  <tbody>\n",
              "    <tr>\n",
              "      <th>1</th>\n",
              "      <td>2</td>\n",
              "      <td>Nurul</td>\n",
              "      <td>20</td>\n",
              "      <td>False</td>\n",
              "    </tr>\n",
              "    <tr>\n",
              "      <th>2</th>\n",
              "      <td>3</td>\n",
              "      <td>Yostantina</td>\n",
              "      <td>19</td>\n",
              "      <td>True</td>\n",
              "    </tr>\n",
              "  </tbody>\n",
              "</table>\n",
              "</div>"
            ],
            "text/plain": [
              "  no        nama  umur  keterangan\n",
              "1  2       Nurul    20       False\n",
              "2  3  Yostantina    19        True"
            ]
          },
          "metadata": {
            "tags": []
          },
          "execution_count": 97
        }
      ]
    },
    {
      "cell_type": "code",
      "metadata": {
        "id": "Ql8cX0ND2u8G",
        "outputId": "25368599-cb37-40c5-9c40-e8b8942fb2d4",
        "colab": {
          "base_uri": "https://localhost:8080/",
          "height": 80
        }
      },
      "source": [
        "df[df.umur<20]"
      ],
      "execution_count": 99,
      "outputs": [
        {
          "output_type": "execute_result",
          "data": {
            "text/html": [
              "<div>\n",
              "<style scoped>\n",
              "    .dataframe tbody tr th:only-of-type {\n",
              "        vertical-align: middle;\n",
              "    }\n",
              "\n",
              "    .dataframe tbody tr th {\n",
              "        vertical-align: top;\n",
              "    }\n",
              "\n",
              "    .dataframe thead th {\n",
              "        text-align: right;\n",
              "    }\n",
              "</style>\n",
              "<table border=\"1\" class=\"dataframe\">\n",
              "  <thead>\n",
              "    <tr style=\"text-align: right;\">\n",
              "      <th></th>\n",
              "      <th>no</th>\n",
              "      <th>nama</th>\n",
              "      <th>umur</th>\n",
              "      <th>keterangan</th>\n",
              "    </tr>\n",
              "  </thead>\n",
              "  <tbody>\n",
              "    <tr>\n",
              "      <th>2</th>\n",
              "      <td>3</td>\n",
              "      <td>Yostantina</td>\n",
              "      <td>19</td>\n",
              "      <td>True</td>\n",
              "    </tr>\n",
              "  </tbody>\n",
              "</table>\n",
              "</div>"
            ],
            "text/plain": [
              "  no        nama  umur  keterangan\n",
              "2  3  Yostantina    19        True"
            ]
          },
          "metadata": {
            "tags": []
          },
          "execution_count": 99
        }
      ]
    },
    {
      "cell_type": "markdown",
      "metadata": {
        "id": "6CvpyJ8j3Su2"
      },
      "source": [
        "6. Matrix"
      ]
    },
    {
      "cell_type": "code",
      "metadata": {
        "id": "Ch-7yAV13Xaj"
      },
      "source": [
        "import numpy as np\n",
        "myMatrix = np.array([[11,12,13], [21,22,23], [31,32,33]])"
      ],
      "execution_count": 100,
      "outputs": []
    },
    {
      "cell_type": "code",
      "metadata": {
        "id": "WjGn_pPf3x3R",
        "outputId": "2c7ed0a7-6a12-48ba-ebe6-db560b151670",
        "colab": {
          "base_uri": "https://localhost:8080/",
          "height": 68
        }
      },
      "source": [
        "print(myMatrix)"
      ],
      "execution_count": 101,
      "outputs": [
        {
          "output_type": "stream",
          "text": [
            "[[11 12 13]\n",
            " [21 22 23]\n",
            " [31 32 33]]\n"
          ],
          "name": "stdout"
        }
      ]
    },
    {
      "cell_type": "code",
      "metadata": {
        "id": "YRa_0TCI35e_",
        "outputId": "ba3d3fd8-e961-4ce5-b640-0146f8dadbef",
        "colab": {
          "base_uri": "https://localhost:8080/",
          "height": 34
        }
      },
      "source": [
        "print(type(myMatrix))"
      ],
      "execution_count": 102,
      "outputs": [
        {
          "output_type": "stream",
          "text": [
            "<class 'numpy.ndarray'>\n"
          ],
          "name": "stdout"
        }
      ]
    },
    {
      "cell_type": "code",
      "metadata": {
        "id": "b9NpntqL4DE5",
        "outputId": "8a3c71fb-ed04-4d46-dead-a19c2ba8aa1c",
        "colab": {
          "base_uri": "https://localhost:8080/",
          "height": 68
        }
      },
      "source": [
        "myMatrix.transpose()"
      ],
      "execution_count": 103,
      "outputs": [
        {
          "output_type": "execute_result",
          "data": {
            "text/plain": [
              "array([[11, 21, 31],\n",
              "       [12, 22, 32],\n",
              "       [13, 23, 33]])"
            ]
          },
          "metadata": {
            "tags": []
          },
          "execution_count": 103
        }
      ]
    },
    {
      "cell_type": "markdown",
      "metadata": {
        "id": "dzynQewA4izg"
      },
      "source": [
        "B. TIPE DATA ABSTRAK"
      ]
    },
    {
      "cell_type": "markdown",
      "metadata": {
        "id": "aqto5o5h4nOw"
      },
      "source": [
        "1. Vector"
      ]
    },
    {
      "cell_type": "code",
      "metadata": {
        "id": "vMEeil304sw4",
        "outputId": "3361e9d7-3dbd-4956-98a2-4478b63dd165",
        "colab": {
          "base_uri": "https://localhost:8080/",
          "height": 34
        }
      },
      "source": [
        "myVector = [1,2,3,4,5]\n",
        "print(myVector)"
      ],
      "execution_count": 104,
      "outputs": [
        {
          "output_type": "stream",
          "text": [
            "[1, 2, 3, 4, 5]\n"
          ],
          "name": "stdout"
        }
      ]
    },
    {
      "cell_type": "code",
      "metadata": {
        "id": "34liWutl5AcS",
        "outputId": "22ae3a1b-6aca-4c12-9395-bb1f4c5f812b",
        "colab": {
          "base_uri": "https://localhost:8080/",
          "height": 34
        }
      },
      "source": [
        "print(type(myVector))"
      ],
      "execution_count": 105,
      "outputs": [
        {
          "output_type": "stream",
          "text": [
            "<class 'list'>\n"
          ],
          "name": "stdout"
        }
      ]
    },
    {
      "cell_type": "code",
      "metadata": {
        "id": "WoUDq7-P5lIi",
        "outputId": "44173336-966c-4354-d586-4ad919789b02",
        "colab": {
          "base_uri": "https://localhost:8080/",
          "height": 34
        }
      },
      "source": [
        "myVector = np.array([1,2,3,4,5])\n",
        "print(myVector)"
      ],
      "execution_count": 106,
      "outputs": [
        {
          "output_type": "stream",
          "text": [
            "[1 2 3 4 5]\n"
          ],
          "name": "stdout"
        }
      ]
    },
    {
      "cell_type": "code",
      "metadata": {
        "id": "XejsUnw25I1j",
        "outputId": "2f5c18f9-b268-4a71-9be4-eb3b452c0f45",
        "colab": {
          "base_uri": "https://localhost:8080/",
          "height": 34
        }
      },
      "source": [
        "print(type(myVector))"
      ],
      "execution_count": 107,
      "outputs": [
        {
          "output_type": "stream",
          "text": [
            "<class 'numpy.ndarray'>\n"
          ],
          "name": "stdout"
        }
      ]
    },
    {
      "cell_type": "markdown",
      "metadata": {
        "id": "a-QlLOlg6Cn_"
      },
      "source": [
        "2. Stack"
      ]
    },
    {
      "cell_type": "code",
      "metadata": {
        "id": "_fHY8pHy6GvA"
      },
      "source": [
        "class Stack:\n",
        "    def __init__(self):\n",
        "        self.items = []\n",
        "    def isEmpty(self):\n",
        "        return self.items == []\n",
        "    def push(self, item):\n",
        "        self.items.append(item)\n",
        "    def pop(self):\n",
        "        return self.items.pop()\n",
        "    def peek(self):\n",
        "        return self.items[len(self.items)-1]\n",
        "    def size(self):\n",
        "        return len(self.items)\n",
        "    "
      ],
      "execution_count": 108,
      "outputs": []
    },
    {
      "cell_type": "markdown",
      "metadata": {
        "id": "ZHmfsdkd8Z1T"
      },
      "source": [
        "# **Populate The Stack**"
      ]
    },
    {
      "cell_type": "code",
      "metadata": {
        "id": "jJ4dnnPD8oOa"
      },
      "source": [
        "stack=Stack()\n",
        "stack.push('Pink')\n",
        "stack.push('Purple')\n",
        "stack.push('Black')\n",
        "stack.push('Grey')\n"
      ],
      "execution_count": 80,
      "outputs": []
    },
    {
      "cell_type": "markdown",
      "metadata": {
        "id": "rvDStn8h9TBG"
      },
      "source": [
        "**Pop**"
      ]
    },
    {
      "cell_type": "code",
      "metadata": {
        "id": "Gz4jcBRA9ba6",
        "outputId": "9774d00e-cd3a-4ee3-f84a-796524866e58",
        "colab": {
          "base_uri": "https://localhost:8080/",
          "height": 35
        }
      },
      "source": [
        "stack.pop()"
      ],
      "execution_count": 110,
      "outputs": [
        {
          "output_type": "execute_result",
          "data": {
            "application/vnd.google.colaboratory.intrinsic+json": {
              "type": "string"
            },
            "text/plain": [
              "'Purple'"
            ]
          },
          "metadata": {
            "tags": []
          },
          "execution_count": 110
        }
      ]
    },
    {
      "cell_type": "code",
      "metadata": {
        "id": "7A7VR6mT9iAM",
        "outputId": "98f1b16e-ea73-408d-88c0-04bfafdad211",
        "colab": {
          "base_uri": "https://localhost:8080/",
          "height": 34
        }
      },
      "source": [
        "stack.isEmpty()"
      ],
      "execution_count": 111,
      "outputs": [
        {
          "output_type": "execute_result",
          "data": {
            "text/plain": [
              "False"
            ]
          },
          "metadata": {
            "tags": []
          },
          "execution_count": 111
        }
      ]
    },
    {
      "cell_type": "code",
      "metadata": {
        "id": "GbbsCjLi9nOM"
      },
      "source": [
        "colors = ['Pink']"
      ],
      "execution_count": 112,
      "outputs": []
    },
    {
      "cell_type": "code",
      "metadata": {
        "id": "Ek-jkid29ySd"
      },
      "source": [
        "colors.append('Purple')\n",
        "colors.append('Black')\n",
        "colors.append('Grey')\n"
      ],
      "execution_count": 113,
      "outputs": []
    },
    {
      "cell_type": "code",
      "metadata": {
        "id": "p6cU5v0Q-DzC",
        "outputId": "107687d6-7d27-4027-e1ca-edce3a570972",
        "colab": {
          "base_uri": "https://localhost:8080/",
          "height": 34
        }
      },
      "source": [
        "colors"
      ],
      "execution_count": 114,
      "outputs": [
        {
          "output_type": "execute_result",
          "data": {
            "text/plain": [
              "['Pink', 'Purple', 'Black', 'Grey']"
            ]
          },
          "metadata": {
            "tags": []
          },
          "execution_count": 114
        }
      ]
    },
    {
      "cell_type": "markdown",
      "metadata": {
        "id": "GdRDgcNr-K_W"
      },
      "source": [
        "3. Queue"
      ]
    },
    {
      "cell_type": "code",
      "metadata": {
        "id": "1A4cC5IH-OcY"
      },
      "source": [
        "class Queue(object):\n",
        "  def __init__(self):\n",
        "      self.items = []\n",
        "  def isEmpty(self):\n",
        "      return self.items == []\n",
        "  def enqueue(self, item):\n",
        "      self.items.insert(0,item)\n",
        "  def dequeue(self):\n",
        "      return self.items.pop()\n",
        "  def size(self):\n",
        "      return len(self.items)"
      ],
      "execution_count": 115,
      "outputs": []
    },
    {
      "cell_type": "code",
      "metadata": {
        "id": "zv8TTM4V_ppR"
      },
      "source": [
        "queue = Queue()"
      ],
      "execution_count": 116,
      "outputs": []
    },
    {
      "cell_type": "code",
      "metadata": {
        "id": "rj17YAfi_1m8"
      },
      "source": [
        "queue.enqueue('Pink')"
      ],
      "execution_count": 117,
      "outputs": []
    },
    {
      "cell_type": "code",
      "metadata": {
        "id": "huxu-RSFACXy"
      },
      "source": [
        "queue.enqueue('Purple')"
      ],
      "execution_count": 118,
      "outputs": []
    },
    {
      "cell_type": "code",
      "metadata": {
        "id": "a6E2d9l2AGPX"
      },
      "source": [
        "queue.enqueue('Black')"
      ],
      "execution_count": 119,
      "outputs": []
    },
    {
      "cell_type": "code",
      "metadata": {
        "id": "Uikt8jxYAMdx"
      },
      "source": [
        "queue.enqueue('Grey')"
      ],
      "execution_count": 120,
      "outputs": []
    },
    {
      "cell_type": "code",
      "metadata": {
        "id": "pgDfzOR2ARJV",
        "outputId": "6ebf9474-fadc-433d-e439-dfb07409cf6f",
        "colab": {
          "base_uri": "https://localhost:8080/",
          "height": 34
        }
      },
      "source": [
        "print(f\"Size of queue is {queue.size()}\")"
      ],
      "execution_count": 121,
      "outputs": [
        {
          "output_type": "stream",
          "text": [
            "Size of queue is 4\n"
          ],
          "name": "stdout"
        }
      ]
    },
    {
      "cell_type": "code",
      "metadata": {
        "id": "VgfC34q3AjBw",
        "outputId": "7da52e6e-f552-4109-c7c9-01194d705692",
        "colab": {
          "base_uri": "https://localhost:8080/",
          "height": 34
        }
      },
      "source": [
        "print(queue.dequeue())"
      ],
      "execution_count": 122,
      "outputs": [
        {
          "output_type": "stream",
          "text": [
            "Pink\n"
          ],
          "name": "stdout"
        }
      ]
    }
  ]
}