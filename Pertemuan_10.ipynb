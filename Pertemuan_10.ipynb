{
  "nbformat": 4,
  "nbformat_minor": 0,
  "metadata": {
    "colab": {
      "name": "Pertemuan_10.ipynb",
      "provenance": [],
      "collapsed_sections": [],
      "authorship_tag": "ABX9TyO4DA1aIKxPsAnAYi1uLkhe",
      "include_colab_link": true
    },
    "kernelspec": {
      "name": "python3",
      "display_name": "Python 3"
    }
  },
  "cells": [
    {
      "cell_type": "markdown",
      "metadata": {
        "id": "view-in-github",
        "colab_type": "text"
      },
      "source": [
        "<a href=\"https://colab.research.google.com/github/riassnti/riassnti/blob/master/Pertemuan_10.ipynb\" target=\"_parent\"><img src=\"https://colab.research.google.com/assets/colab-badge.svg\" alt=\"Open In Colab\"/></a>"
      ]
    },
    {
      "cell_type": "markdown",
      "metadata": {
        "id": "VsHHYUaK49za"
      },
      "source": [
        "# **ALGORITMA GRAPH**"
      ]
    },
    {
      "cell_type": "markdown",
      "metadata": {
        "id": "VSeoe-SR5JRs"
      },
      "source": [
        "1. Membuat graph dengan elemen V = {a, b, c, d, e} E= { ab, ac, bd, cd, de}"
      ]
    },
    {
      "cell_type": "code",
      "metadata": {
        "id": "VhV5sN534PiR"
      },
      "source": [
        "# a-----b\n",
        "# |     |\n",
        "# |     |\n",
        "# c-----d-----e"
      ],
      "execution_count": null,
      "outputs": []
    },
    {
      "cell_type": "code",
      "metadata": {
        "colab": {
          "base_uri": "https://localhost:8080/"
        },
        "id": "49J1bkoT6jwo",
        "outputId": "507af043-1d2e-4a9c-ba46-4a1f00295e27"
      },
      "source": [
        "#Create the dictionary with graph elements\n",
        "graph = {\"a\" : [\"b\",\"c\"],\n",
        "          \"b\" : [\"a\",\"d\"],\n",
        "          \"c\" : [\"a\",\"d\"],\n",
        "          \"d\" : [\"e\"],\n",
        "          \"e\" : [\"d\"]\n",
        "        } \n",
        "#Print the graph >>>\n",
        "print(graph)"
      ],
      "execution_count": null,
      "outputs": [
        {
          "output_type": "stream",
          "text": [
            "{'a': ['b', 'c'], 'b': ['a', 'd'], 'c': ['a', 'd'], 'd': ['e'], 'e': ['d']}\n"
          ],
          "name": "stdout"
        }
      ]
    },
    {
      "cell_type": "markdown",
      "metadata": {
        "id": "9jI5Aaqf8Vlr"
      },
      "source": [
        "2. Menampilkan simpul pada graph"
      ]
    },
    {
      "cell_type": "code",
      "metadata": {
        "colab": {
          "base_uri": "https://localhost:8080/"
        },
        "id": "W_rl48sM8dsy",
        "outputId": "a17cdfff-a9d7-4aba-bee6-e71b32a55e05"
      },
      "source": [
        "class graph :\n",
        "    def __init__(self,gdict=None):\n",
        "        if gdict is None:\n",
        "            gdict = []\n",
        "        self.gdict = gdict\n",
        "\n",
        " #Get the keys of the dictionary\n",
        "    def getVertices(self):\n",
        "        return list(self.gdict.keys())\n",
        "\n",
        "#Create the dictionary with graph elements\n",
        "graph_elements = {\"a\" : [\"b\",\"c\"],\n",
        "                  \"b\" : [\"a\",\"d\"],\n",
        "                  \"c\" : [\"a\",\"d\"],\n",
        "                  \"d\" : [\"e\"],\n",
        "                  \"e\" : [\"d\"]\n",
        "                 }   \n",
        "\n",
        "g = graph(graph_elements)\n",
        "print(g.getVertices())           "
      ],
      "execution_count": null,
      "outputs": [
        {
          "output_type": "stream",
          "text": [
            "['a', 'b', 'c', 'd', 'e']\n"
          ],
          "name": "stdout"
        }
      ]
    },
    {
      "cell_type": "markdown",
      "metadata": {
        "id": "_heAh_2K474y"
      },
      "source": [
        "3. Menampilkan sudut pada graph"
      ]
    },
    {
      "cell_type": "code",
      "metadata": {
        "colab": {
          "base_uri": "https://localhost:8080/"
        },
        "id": "VLt-g2YN-lLO",
        "outputId": "851808e2-ebbf-4f81-bf80-ce058166845a"
      },
      "source": [
        "class graph :\n",
        "    def __init__(self,gdict=None):\n",
        "        if gdict is None:\n",
        "            gdict = {}\n",
        "        self.gdict = gdict\n",
        "        \n",
        "    def edges(self):\n",
        "        return self.findedges()\n",
        "\n",
        "#Find the distinct list of edges\n",
        "    def findedges(self):\n",
        "        edgename = []\n",
        "        for vrtx in self.gdict:\n",
        "            for nxtvrtx in self.gdict[vrtx]:\n",
        "                if {nxtvrtx, vrtx} not in edgename:\n",
        "                    edgename.append({vrtx, nxtvrtx})\n",
        "        return edgename\n",
        "\n",
        "#Create the dictionary with graph elements\n",
        "graph_elements = {\"a\" : [\"b\",\"c\"],\n",
        "                  \"b\" : [\"a\",\"d\"],\n",
        "                  \"c\" : [\"a\",\"d\"],\n",
        "                  \"d\" : [\"e\"],\n",
        "                  \"e\" : [\"d\"]\n",
        "                 }   \n",
        "\n",
        "g = graph(graph_elements)\n",
        "print(g.edges())    "
      ],
      "execution_count": null,
      "outputs": [
        {
          "output_type": "stream",
          "text": [
            "[{'b', 'a'}, {'c', 'a'}, {'b', 'd'}, {'c', 'd'}, {'e', 'd'}]\n"
          ],
          "name": "stdout"
        }
      ]
    },
    {
      "cell_type": "markdown",
      "metadata": {
        "id": "fw912JQjBVb8"
      },
      "source": [
        "4. Menambah vertex/simpul"
      ]
    },
    {
      "cell_type": "code",
      "metadata": {
        "colab": {
          "base_uri": "https://localhost:8080/"
        },
        "id": "jF4yb4YWBfgU",
        "outputId": "f60a7eeb-ae9e-41a0-d76a-63c3c0a99271"
      },
      "source": [
        "class graph :\n",
        "    def __init__(self,gdict=None):\n",
        "        if gdict is None:\n",
        "            gdict = {}\n",
        "        self.gdict = gdict\n",
        "\n",
        "    def getVertices(self):\n",
        "        return list(self.gdict.keys())\n",
        "\n",
        "#Add the vertex as a key\n",
        "    def addVertex(self, vrtx):\n",
        "      if vrtx not in self.gdict:\n",
        "          self.gdict[vrtx] = []\n",
        "\n",
        "#Create the dictionary with graph elements\n",
        "graph_elements = {\"a\" : [\"b\",\"c\"],\n",
        "                  \"b\" : [\"a\",\"d\"],\n",
        "                  \"c\" : [\"a\",\"d\"],\n",
        "                  \"d\" : [\"e\"],\n",
        "                  \"e\" : [\"d\"]\n",
        "                 }   \n",
        "\n",
        "g = graph(graph_elements)\n",
        "g.addVertex(\"f\")\n",
        "print(g.getVertices()) "
      ],
      "execution_count": null,
      "outputs": [
        {
          "output_type": "stream",
          "text": [
            "['a', 'b', 'c', 'd', 'e', 'f']\n"
          ],
          "name": "stdout"
        }
      ]
    },
    {
      "cell_type": "markdown",
      "metadata": {
        "id": "8t8HNTAdHhiY"
      },
      "source": [
        "5. Menambah edge/sudut"
      ]
    },
    {
      "cell_type": "code",
      "metadata": {
        "colab": {
          "base_uri": "https://localhost:8080/"
        },
        "id": "yktAq56XH9nv",
        "outputId": "d0aeb9af-8864-44ee-891b-98ccd1dc7e04"
      },
      "source": [
        "class graph :\n",
        "    def __init__(self,gdict=None):\n",
        "        if gdict is None:\n",
        "            gdict = {}\n",
        "        self.gdict = gdict\n",
        "        \n",
        "    def edges(self):\n",
        "        return self.findedges()\n",
        "\n",
        "#Add the new edge\n",
        "    def AddEdge(self,edge):\n",
        "        edge = set(edge)\n",
        "        (vrtx1, vrtx2) = tuple(edge)\n",
        "        if vrtx1 in self.gdict:\n",
        "            self.gdict[vrtx1].append(vrtx2)\n",
        "        else:\n",
        "            self.gdict[vrtx1] = [vrtx2]\n",
        "\n",
        "#List the edge names\n",
        "    def findedges(self):\n",
        "        edgename = []\n",
        "        for vrtx in self.gdict:\n",
        "            for nxtvrtx in self.gdict[vrtx]:\n",
        "                if {nxtvrtx, vrtx} not in edgename:\n",
        "                    edgename.append({vrtx, nxtvrtx})\n",
        "        return edgename\n",
        "\n",
        "#Create the dictionary with graph elements\n",
        "graph_elements = {\"a\" : [\"b\",\"c\"],\n",
        "                  \"b\" : [\"a\",\"d\"],\n",
        "                  \"c\" : [\"a\",\"d\"],\n",
        "                  \"d\" : [\"e\"],\n",
        "                  \"e\" : [\"d\"]\n",
        "                 }   \n",
        "\n",
        "g = graph(graph_elements)\n",
        "g.AddEdge({'a','e'})\n",
        "g.AddEdge({'a','c'})\n",
        "print(g.edges()) \n",
        "\n"
      ],
      "execution_count": null,
      "outputs": [
        {
          "output_type": "stream",
          "text": [
            "[{'b', 'a'}, {'c', 'a'}, {'b', 'd'}, {'c', 'd'}, {'e', 'd'}, {'e', 'a'}]\n"
          ],
          "name": "stdout"
        }
      ]
    }
  ]
}