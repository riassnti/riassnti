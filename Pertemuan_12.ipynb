{
  "nbformat": 4,
  "nbformat_minor": 0,
  "metadata": {
    "colab": {
      "name": "Pertemuan_12.ipynb",
      "provenance": [],
      "authorship_tag": "ABX9TyOFhGkAqUlUp1DA/iYZ4XXy",
      "include_colab_link": true
    },
    "kernelspec": {
      "name": "python3",
      "display_name": "Python 3"
    }
  },
  "cells": [
    {
      "cell_type": "markdown",
      "metadata": {
        "id": "view-in-github",
        "colab_type": "text"
      },
      "source": [
        "<a href=\"https://colab.research.google.com/github/riassnti/riassnti/blob/master/Pertemuan_12.ipynb\" target=\"_parent\"><img src=\"https://colab.research.google.com/assets/colab-badge.svg\" alt=\"Open In Colab\"/></a>"
      ]
    },
    {
      "cell_type": "markdown",
      "metadata": {
        "id": "34jM8KVQ4mOT"
      },
      "source": [
        "# **Algoritma BFS & DFS**"
      ]
    },
    {
      "cell_type": "markdown",
      "metadata": {
        "id": "syP8lPF14wwO"
      },
      "source": [
        "**Algoritma BFS**"
      ]
    },
    {
      "cell_type": "code",
      "metadata": {
        "id": "NQlHchcB41AR"
      },
      "source": [
        "graph={ 'Amin' : {'Wasim', 'Nick', 'Mike'},\n",
        "        'Wasim' : {'Imran', 'Amin'},\n",
        "        'Imran' : {'Wasim', 'Faras'},\n",
        "        'Faras' : {'Imran'},\n",
        "        'Mike' : {'Amin'},\n",
        "        'Nick' : {'Amin'}}"
      ],
      "execution_count": null,
      "outputs": []
    },
    {
      "cell_type": "code",
      "metadata": {
        "id": "SQ85toGe777S"
      },
      "source": [
        "def bfs(graph, start):\n",
        "    visited = []\n",
        "    queue = [start]\n",
        "\n",
        "    while queue:\n",
        "        node = queue.pop(0)\n",
        "        if node not in visited:\n",
        "            visited.append(node)\n",
        "            neighbours = graph[node]\n",
        "            for neighbour in neighbours:\n",
        "                queue.append(neighbour)\n",
        "    return visited"
      ],
      "execution_count": null,
      "outputs": []
    },
    {
      "cell_type": "code",
      "metadata": {
        "colab": {
          "base_uri": "https://localhost:8080/"
        },
        "id": "wqlaonMI6w_h",
        "outputId": "2e6a0472-e63a-4242-b429-0aa259b9f72d"
      },
      "source": [
        "# O amin ---------------\n",
        "# |          |          |\n",
        "# O wasim    O nick     O mike\n",
        "# |\n",
        "# O imran\n",
        "# |\n",
        "# O faras\n",
        "\n",
        "bfs(graph, 'Amin')"
      ],
      "execution_count": null,
      "outputs": [
        {
          "output_type": "execute_result",
          "data": {
            "text/plain": [
              "['Amin', 'Mike', 'Nick', 'Wasim', 'Imran', 'Faras']"
            ]
          },
          "metadata": {
            "tags": []
          },
          "execution_count": 38
        }
      ]
    },
    {
      "cell_type": "code",
      "metadata": {
        "colab": {
          "base_uri": "https://localhost:8080/"
        },
        "id": "IGz_Rsl48jm3",
        "outputId": "c9e1b4c4-d8c9-4bf5-e2f6-ef70feee97ee"
      },
      "source": [
        "# O wasim ----\n",
        "# |          |\n",
        "# O imran    O amin ----\n",
        "# |          |         |\n",
        "# O faras    O nick    O mike\n",
        "\n",
        "bfs(graph, 'Wasim')"
      ],
      "execution_count": null,
      "outputs": [
        {
          "output_type": "execute_result",
          "data": {
            "text/plain": [
              "['Wasim', 'Imran', 'Amin', 'Faras', 'Mike', 'Nick']"
            ]
          },
          "metadata": {
            "tags": []
          },
          "execution_count": 39
        }
      ]
    },
    {
      "cell_type": "code",
      "metadata": {
        "colab": {
          "base_uri": "https://localhost:8080/"
        },
        "id": "ADzwohPi9SVk",
        "outputId": "e2b3cf5e-5d9c-4553-8260-155b9f4c19ea"
      },
      "source": [
        "# O faras\n",
        "# |\n",
        "# O imran\n",
        "# |\n",
        "# O wasim  O nick O micke\n",
        "# |        |      |\n",
        "# O amin ----------\n",
        "\n",
        "bfs(graph, 'Faras')"
      ],
      "execution_count": null,
      "outputs": [
        {
          "output_type": "execute_result",
          "data": {
            "text/plain": [
              "['Faras', 'Imran', 'Wasim', 'Amin', 'Mike', 'Nick']"
            ]
          },
          "metadata": {
            "tags": []
          },
          "execution_count": 40
        }
      ]
    },
    {
      "cell_type": "markdown",
      "metadata": {
        "id": "qSAhOW3V-aCp"
      },
      "source": [
        "**Algoritma DFS**"
      ]
    },
    {
      "cell_type": "code",
      "metadata": {
        "id": "JoJ6NhTd-igV"
      },
      "source": [
        "def dfs(graph, start, visited=None):\n",
        "    if visited is None:\n",
        "        visited = set()\n",
        "    visited.add(start)\n",
        "    print(start)\n",
        "    for next in graph[start] - visited:\n",
        "        dfs(graph, next, visited)\n",
        "    return visited"
      ],
      "execution_count": null,
      "outputs": []
    },
    {
      "cell_type": "code",
      "metadata": {
        "id": "dmrcb3S-_ZeZ"
      },
      "source": [
        "graph={ 'Amin' : {'Wasim', 'Nick', 'Mike'},\n",
        "        'Wasim' : {'Imran', 'Amin'},\n",
        "        'Imran' : {'Wasim', 'Faras'},\n",
        "        'Faras' : {'Imran'},\n",
        "        'Mike' : {'Amin'},\n",
        "        'Nick' : {'Amin'}}"
      ],
      "execution_count": null,
      "outputs": []
    },
    {
      "cell_type": "code",
      "metadata": {
        "colab": {
          "base_uri": "https://localhost:8080/"
        },
        "id": "nQ_eQUZKAA5_",
        "outputId": "6f33ea81-6aa2-4cd8-9da7-ffb166d5479b"
      },
      "source": [
        "# O amin ---------------\n",
        "# |          |          |\n",
        "# O wasim    O nick     O mike\n",
        "# |\n",
        "# O imran\n",
        "# |\n",
        "# O faras\n",
        "#\n",
        "# turun dari amin ke faras, geser ke nick & mike\n",
        "\n",
        "dfs(graph, 'Amin')"
      ],
      "execution_count": null,
      "outputs": [
        {
          "output_type": "stream",
          "text": [
            "Amin\n",
            "Mike\n",
            "Wasim\n",
            "Imran\n",
            "Faras\n",
            "Nick\n"
          ],
          "name": "stdout"
        },
        {
          "output_type": "execute_result",
          "data": {
            "text/plain": [
              "{'Amin', 'Faras', 'Imran', 'Mike', 'Nick', 'Wasim'}"
            ]
          },
          "metadata": {
            "tags": []
          },
          "execution_count": 42
        }
      ]
    },
    {
      "cell_type": "code",
      "metadata": {
        "colab": {
          "base_uri": "https://localhost:8080/"
        },
        "id": "DnYoxmY9A_0n",
        "outputId": "cfe2fd58-9063-41e0-bfaf-6ea4257abc4f"
      },
      "source": [
        "# O amin ---------------\n",
        "# |          |          |\n",
        "# O wasim    O nick     O mike\n",
        "# |\n",
        "# O imran\n",
        "# |\n",
        "# O faras\n",
        "#\n",
        "# turun dari wasim ke faras, geser ke nick & mike\n",
        "\n",
        "dfs(graph, 'Wasim')"
      ],
      "execution_count": null,
      "outputs": [
        {
          "output_type": "stream",
          "text": [
            "Wasim\n",
            "Imran\n",
            "Faras\n",
            "Amin\n",
            "Mike\n",
            "Nick\n"
          ],
          "name": "stdout"
        },
        {
          "output_type": "execute_result",
          "data": {
            "text/plain": [
              "{'Amin', 'Faras', 'Imran', 'Mike', 'Nick', 'Wasim'}"
            ]
          },
          "metadata": {
            "tags": []
          },
          "execution_count": 43
        }
      ]
    },
    {
      "cell_type": "code",
      "metadata": {
        "colab": {
          "base_uri": "https://localhost:8080/"
        },
        "id": "GB0WEqI5BK4k",
        "outputId": "3a0e0bc6-65fa-404f-9fc5-b2177e1ab0b9"
      },
      "source": [
        "# O amin ---------------\n",
        "# |          |          |\n",
        "# O wasim    O nick     O mike\n",
        "# |\n",
        "# O imran\n",
        "# |\n",
        "# O faras\n",
        "#\n",
        "# turun dari faras ke amin, geser ke nick & mike\n",
        "\n",
        "dfs(graph, 'Faras')"
      ],
      "execution_count": null,
      "outputs": [
        {
          "output_type": "stream",
          "text": [
            "Faras\n",
            "Imran\n",
            "Wasim\n",
            "Amin\n",
            "Mike\n",
            "Nick\n"
          ],
          "name": "stdout"
        },
        {
          "output_type": "execute_result",
          "data": {
            "text/plain": [
              "{'Amin', 'Faras', 'Imran', 'Mike', 'Nick', 'Wasim'}"
            ]
          },
          "metadata": {
            "tags": []
          },
          "execution_count": 44
        }
      ]
    },
    {
      "cell_type": "code",
      "metadata": {
        "colab": {
          "base_uri": "https://localhost:8080/"
        },
        "id": "aOXQnZN0BeOy",
        "outputId": "199e57e4-3ecc-4368-f9d2-dda5e8aef484"
      },
      "source": [
        "# O amin ---------------\n",
        "# |          |          |\n",
        "# O wasim    O nick     O mike\n",
        "# |\n",
        "# O imran\n",
        "# |\n",
        "# O faras\n",
        "#\n",
        "# naik nick ke amin, turun ke faras, geser ke mike\n",
        "\n",
        "dfs(graph, 'Nick')"
      ],
      "execution_count": null,
      "outputs": [
        {
          "output_type": "stream",
          "text": [
            "Nick\n",
            "Amin\n",
            "Mike\n",
            "Wasim\n",
            "Imran\n",
            "Faras\n"
          ],
          "name": "stdout"
        },
        {
          "output_type": "execute_result",
          "data": {
            "text/plain": [
              "{'Amin', 'Faras', 'Imran', 'Mike', 'Nick', 'Wasim'}"
            ]
          },
          "metadata": {
            "tags": []
          },
          "execution_count": 45
        }
      ]
    }
  ]
}