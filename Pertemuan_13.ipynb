{
  "nbformat": 4,
  "nbformat_minor": 0,
  "metadata": {
    "colab": {
      "name": "Pertemuan_13.ipynb",
      "provenance": [],
      "authorship_tag": "ABX9TyM0oiDdgIhDt6iyqCDnI6Sr",
      "include_colab_link": true
    },
    "kernelspec": {
      "name": "python3",
      "display_name": "Python 3"
    }
  },
  "cells": [
    {
      "cell_type": "markdown",
      "metadata": {
        "id": "view-in-github",
        "colab_type": "text"
      },
      "source": [
        "<a href=\"https://colab.research.google.com/github/riassnti/riassnti/blob/master/Pertemuan_13.ipynb\" target=\"_parent\"><img src=\"https://colab.research.google.com/assets/colab-badge.svg\" alt=\"Open In Colab\"/></a>"
      ]
    },
    {
      "cell_type": "markdown",
      "metadata": {
        "id": "M4AkgX-lMJKm"
      },
      "source": [
        "**Studi Kasus Fraud Analytics**"
      ]
    },
    {
      "cell_type": "code",
      "metadata": {
        "id": "pRBQhNrtQShB"
      },
      "source": [
        "pip install networkx"
      ],
      "execution_count": null,
      "outputs": []
    },
    {
      "cell_type": "code",
      "metadata": {
        "id": "aEh4hT2vlgzE"
      },
      "source": [
        "import networkx as nx\r\n",
        "import matplotlib.pyplot as plt"
      ],
      "execution_count": null,
      "outputs": []
    },
    {
      "cell_type": "code",
      "metadata": {
        "id": "3tr5RCPBl3PW"
      },
      "source": [
        "vertices = range(1,10)\r\n",
        "edges = [(7,2),(2,3),(7,4),(4,5),(7,3),(7,5),(1,6),(1,7),(2,8),(2,9)]"
      ],
      "execution_count": null,
      "outputs": []
    },
    {
      "cell_type": "code",
      "metadata": {
        "id": "kwp7FCYimkXN"
      },
      "source": [
        "G = nx.Graph()"
      ],
      "execution_count": null,
      "outputs": []
    },
    {
      "cell_type": "code",
      "metadata": {
        "id": "eF9BG9SJmpDg"
      },
      "source": [
        "G.add_nodes_from(vertices)\r\n",
        "G.add_edges_from(edges)\r\n",
        "pos=nx.spring_layout(G)"
      ],
      "execution_count": null,
      "outputs": []
    },
    {
      "cell_type": "code",
      "metadata": {
        "colab": {
          "base_uri": "https://localhost:8080/",
          "height": 407
        },
        "id": "vHUl-fIVnPOT",
        "outputId": "daad7685-bf74-441e-cb71-f7a6082511e5"
      },
      "source": [
        "nx.draw_networkx_nodes(G,pos,nodelist=[1,4,3,8,9],label=True,node_color='g',node_size=1300)\r\n",
        "\r\n",
        "nx.draw_networkx_nodes(G,pos,nodelist=[2,5,6,7],label=True,node_color='r',node_size=1300)\r\n",
        "\r\n",
        "nx.draw_networkx_edges(G,pos,edges,width=3,alpha=0.5,edge_color='b')\r\n",
        "\r\n",
        "labels = {}\r\n",
        "labels[1]=r'1 NF'\r\n",
        "labels[2]=r'2 F'\r\n",
        "labels[3]=r'3 NF'\r\n",
        "labels[4]=r'4 NF'\r\n",
        "labels[5]=r'5 F'\r\n",
        "labels[6]=r'6 F'\r\n",
        "labels[7]=r'7 F'\r\n",
        "labels[8]=r'8 NF'\r\n",
        "labels[9]=r'9 NF'\r\n",
        "\r\n",
        "nx.draw_networkx_labels(G,pos,labels,font_size=16)\r\n",
        "\r\n"
      ],
      "execution_count": null,
      "outputs": [
        {
          "output_type": "execute_result",
          "data": {
            "text/plain": [
              "{1: Text(0.6022633938057048, -0.05516816258382227, '1 NF'),\n",
              " 2: Text(-0.39763358269354515, -0.22643018417075378, '2 F'),\n",
              " 3: Text(-0.39457639912844933, 0.14507804625523285, '3 NF'),\n",
              " 4: Text(-0.024351395028909185, 0.7143178336384778, '4 NF'),\n",
              " 5: Text(0.2580866134063299, 0.6526596890117851, '5 F'),\n",
              " 6: Text(1.0, -0.339012804797046, '6 F'),\n",
              " 7: Text(0.043189058971494367, 0.21599279756351758, '7 F'),\n",
              " 8: Text(-0.22113404843432619, -0.6449991820396396, '8 NF'),\n",
              " 9: Text(-0.8658436408982988, -0.4624380328777518, '9 NF')}"
            ]
          },
          "metadata": {
            "tags": []
          },
          "execution_count": 30
        },
        {
          "output_type": "display_data",
          "data": {
            "image/png": "[encoded data removed]",
            "text/plain": [
              "<Figure size 432x288 with 1 Axes>"
            ]
          },
          "metadata": {
            "tags": []
          }
        }
      ]
    }
  ]
}